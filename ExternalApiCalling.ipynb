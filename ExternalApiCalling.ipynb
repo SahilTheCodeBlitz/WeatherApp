{
  "cells": [
    {
      "cell_type": "code",
      "execution_count": null,
      "metadata": {
        "id": "B_V4yGKrLfEG"
      },
      "outputs": [],
      "source": [
        "apikey = '1d736f6b50e103b2a9949bd04eac1332'\n",
        "url = 'https://api.openweathermap.org/data/2.5/weather'"
      ]
    },
    {
      "cell_type": "code",
      "execution_count": null,
      "metadata": {
        "id": "TGS2zPiSLfEL"
      },
      "outputs": [],
      "source": [
        "params = {'q':'delhi',\n",
        "          'appid':apikey,\n",
        "          'units':'metric'}"
      ]
    },
    {
      "cell_type": "code",
      "execution_count": null,
      "metadata": {
        "id": "YL-3DUCOLfEM",
        "outputId": "e75af93c-7c95-47da-dc1a-ca53e26059ad"
      },
      "outputs": [
        {
          "data": {
            "text/plain": [
              "<Response [200]>"
            ]
          },
          "execution_count": 4,
          "metadata": {},
          "output_type": "execute_result"
        }
      ],
      "source": [
        "import requests\n",
        "\n",
        "requests.get(url,params=params) # 200 means we are getting successful response"
      ]
    },
    {
      "cell_type": "code",
      "execution_count": null,
      "metadata": {
        "id": "rO51kbD_LfEO"
      },
      "outputs": [],
      "source": [
        "data = requests.get(url,params=params)"
      ]
    },
    {
      "cell_type": "code",
      "execution_count": null,
      "metadata": {
        "id": "24wMdVi-LfEO",
        "outputId": "8b2ab6c0-08bc-4c25-93d3-90e051ad9e15"
      },
      "outputs": [
        {
          "data": {
            "text/plain": [
              "{'coord': {'lon': 77.2167, 'lat': 28.6667},\n",
              " 'weather': [{'id': 701,\n",
              "   'main': 'Mist',\n",
              "   'description': 'mist',\n",
              "   'icon': '50n'}],\n",
              " 'base': 'stations',\n",
              " 'main': {'temp': 15.05,\n",
              "  'feels_like': 14.62,\n",
              "  'temp_min': 15.05,\n",
              "  'temp_max': 15.05,\n",
              "  'pressure': 1015,\n",
              "  'humidity': 77},\n",
              " 'visibility': 1300,\n",
              " 'wind': {'speed': 0, 'deg': 0},\n",
              " 'clouds': {'all': 0},\n",
              " 'dt': 1700768599,\n",
              " 'sys': {'type': 1,\n",
              "  'id': 9165,\n",
              "  'country': 'IN',\n",
              "  'sunrise': 1700788844,\n",
              "  'sunset': 1700826895},\n",
              " 'timezone': 19800,\n",
              " 'id': 1273294,\n",
              " 'name': 'Delhi',\n",
              " 'cod': 200}"
            ]
          },
          "execution_count": 6,
          "metadata": {},
          "output_type": "execute_result"
        }
      ],
      "source": [
        "data.json()"
      ]
    },
    {
      "cell_type": "code",
      "execution_count": null,
      "metadata": {
        "id": "UNlCnijyLfEP"
      },
      "outputs": [],
      "source": []
    }
  ],
  "metadata": {
    "kernelspec": {
      "display_name": "Python 3",
      "language": "python",
      "name": "python3"
    },
    "language_info": {
      "codemirror_mode": {
        "name": "ipython",
        "version": 3
      },
      "file_extension": ".py",
      "mimetype": "text/x-python",
      "name": "python",
      "nbconvert_exporter": "python",
      "pygments_lexer": "ipython3",
      "version": "3.8.10"
    },
    "orig_nbformat": 4,
    "colab": {
      "provenance": []
    }
  },
  "nbformat": 4,
  "nbformat_minor": 0
}